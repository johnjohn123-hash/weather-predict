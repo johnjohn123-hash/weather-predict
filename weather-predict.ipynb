{
 "cells": [
  {
   "cell_type": "code",
   "id": "initial_id",
   "metadata": {
    "collapsed": true,
    "ExecuteTime": {
     "end_time": "2025-06-13T10:29:54.072847Z",
     "start_time": "2025-06-13T10:29:52.758873Z"
    }
   },
   "source": [
    "# Import necessary libraries\n",
    "import pandas as pd\n",
    "import numpy as np\n",
    "from sklearn.model_selection import train_test_split\n",
    "from sklearn.preprocessing import MinMaxScaler\n",
    "from sklearn.linear_model import LinearRegression\n",
    "from sklearn.tree import DecisionTreeRegressor\n",
    "from sklearn.neighbors import KNeighborsRegressor\n",
    "from sklearn.metrics import r2_score\n",
    "from sklearn.model_selection import GridSearchCV\n",
    "from sklearn.model_selection import cross_val_score\n",
    "from sklearn.metrics import mean_squared_error, mean_absolute_error\n",
    "import matplotlib.pyplot as plt\n",
    "import joblib\n",
    "from matplotlib.pyplot import rcParams\n"
   ],
   "outputs": [],
   "execution_count": 1
  },
  {
   "metadata": {
    "ExecuteTime": {
     "end_time": "2025-06-13T10:29:54.279005Z",
     "start_time": "2025-06-13T10:29:54.074853Z"
    }
   },
   "cell_type": "code",
   "source": [
    "weather_data = pd.read_csv(\"szeged_weather_data.csv\")\n",
    "weather_data.shape  "
   ],
   "id": "76e34f1c9db0fad6",
   "outputs": [
    {
     "data": {
      "text/plain": [
       "(96453, 12)"
      ]
     },
     "execution_count": 2,
     "metadata": {},
     "output_type": "execute_result"
    }
   ],
   "execution_count": 2
  },
  {
   "metadata": {
    "ExecuteTime": {
     "end_time": "2025-06-13T10:29:54.298927Z",
     "start_time": "2025-06-13T10:29:54.279005Z"
    }
   },
   "cell_type": "code",
   "source": "weather_data.info()",
   "id": "3ad52d16abdcf889",
   "outputs": [
    {
     "name": "stdout",
     "output_type": "stream",
     "text": [
      "<class 'pandas.core.frame.DataFrame'>\n",
      "RangeIndex: 96453 entries, 0 to 96452\n",
      "Data columns (total 12 columns):\n",
      " #   Column                    Non-Null Count  Dtype  \n",
      "---  ------                    --------------  -----  \n",
      " 0   Formatted Date            96453 non-null  object \n",
      " 1   Summary                   96453 non-null  object \n",
      " 2   Precip Type               95936 non-null  object \n",
      " 3   Temperature (C)           96453 non-null  float64\n",
      " 4   Apparent Temperature (C)  96453 non-null  float64\n",
      " 5   Humidity                  96453 non-null  float64\n",
      " 6   Wind Speed (km/h)         96453 non-null  float64\n",
      " 7   Wind Bearing (degrees)    96453 non-null  float64\n",
      " 8   Visibility (km)           96453 non-null  float64\n",
      " 9   Loud Cover                96453 non-null  float64\n",
      " 10  Pressure (millibars)      96453 non-null  float64\n",
      " 11  Daily Summary             96453 non-null  object \n",
      "dtypes: float64(8), object(4)\n",
      "memory usage: 8.8+ MB\n"
     ]
    }
   ],
   "execution_count": 3
  },
  {
   "metadata": {
    "ExecuteTime": {
     "end_time": "2025-06-13T10:29:54.317278Z",
     "start_time": "2025-06-13T10:29:54.300449Z"
    }
   },
   "cell_type": "code",
   "source": "weather_data.head()",
   "id": "35bff78c9c6ac93",
   "outputs": [
    {
     "data": {
      "text/plain": [
       "                  Formatted Date        Summary Precip Type  Temperature (C)  \\\n",
       "0  2006-04-01 00:00:00.000 +0200  Partly Cloudy        rain         9.472222   \n",
       "1  2006-04-01 01:00:00.000 +0200  Partly Cloudy        rain         9.355556   \n",
       "2  2006-04-01 02:00:00.000 +0200  Mostly Cloudy        rain         9.377778   \n",
       "3  2006-04-01 03:00:00.000 +0200  Partly Cloudy        rain         8.288889   \n",
       "4  2006-04-01 04:00:00.000 +0200  Mostly Cloudy        rain         8.755556   \n",
       "\n",
       "   Apparent Temperature (C)  Humidity  Wind Speed (km/h)  \\\n",
       "0                  7.388889      0.89            14.1197   \n",
       "1                  7.227778      0.86            14.2646   \n",
       "2                  9.377778      0.89             3.9284   \n",
       "3                  5.944444      0.83            14.1036   \n",
       "4                  6.977778      0.83            11.0446   \n",
       "\n",
       "   Wind Bearing (degrees)  Visibility (km)  Loud Cover  Pressure (millibars)  \\\n",
       "0                   251.0          15.8263         0.0               1015.13   \n",
       "1                   259.0          15.8263         0.0               1015.63   \n",
       "2                   204.0          14.9569         0.0               1015.94   \n",
       "3                   269.0          15.8263         0.0               1016.41   \n",
       "4                   259.0          15.8263         0.0               1016.51   \n",
       "\n",
       "                       Daily Summary  \n",
       "0  Partly cloudy throughout the day.  \n",
       "1  Partly cloudy throughout the day.  \n",
       "2  Partly cloudy throughout the day.  \n",
       "3  Partly cloudy throughout the day.  \n",
       "4  Partly cloudy throughout the day.  "
      ],
      "text/html": [
       "<div>\n",
       "<style scoped>\n",
       "    .dataframe tbody tr th:only-of-type {\n",
       "        vertical-align: middle;\n",
       "    }\n",
       "\n",
       "    .dataframe tbody tr th {\n",
       "        vertical-align: top;\n",
       "    }\n",
       "\n",
       "    .dataframe thead th {\n",
       "        text-align: right;\n",
       "    }\n",
       "</style>\n",
       "<table border=\"1\" class=\"dataframe\">\n",
       "  <thead>\n",
       "    <tr style=\"text-align: right;\">\n",
       "      <th></th>\n",
       "      <th>Formatted Date</th>\n",
       "      <th>Summary</th>\n",
       "      <th>Precip Type</th>\n",
       "      <th>Temperature (C)</th>\n",
       "      <th>Apparent Temperature (C)</th>\n",
       "      <th>Humidity</th>\n",
       "      <th>Wind Speed (km/h)</th>\n",
       "      <th>Wind Bearing (degrees)</th>\n",
       "      <th>Visibility (km)</th>\n",
       "      <th>Loud Cover</th>\n",
       "      <th>Pressure (millibars)</th>\n",
       "      <th>Daily Summary</th>\n",
       "    </tr>\n",
       "  </thead>\n",
       "  <tbody>\n",
       "    <tr>\n",
       "      <th>0</th>\n",
       "      <td>2006-04-01 00:00:00.000 +0200</td>\n",
       "      <td>Partly Cloudy</td>\n",
       "      <td>rain</td>\n",
       "      <td>9.472222</td>\n",
       "      <td>7.388889</td>\n",
       "      <td>0.89</td>\n",
       "      <td>14.1197</td>\n",
       "      <td>251.0</td>\n",
       "      <td>15.8263</td>\n",
       "      <td>0.0</td>\n",
       "      <td>1015.13</td>\n",
       "      <td>Partly cloudy throughout the day.</td>\n",
       "    </tr>\n",
       "    <tr>\n",
       "      <th>1</th>\n",
       "      <td>2006-04-01 01:00:00.000 +0200</td>\n",
       "      <td>Partly Cloudy</td>\n",
       "      <td>rain</td>\n",
       "      <td>9.355556</td>\n",
       "      <td>7.227778</td>\n",
       "      <td>0.86</td>\n",
       "      <td>14.2646</td>\n",
       "      <td>259.0</td>\n",
       "      <td>15.8263</td>\n",
       "      <td>0.0</td>\n",
       "      <td>1015.63</td>\n",
       "      <td>Partly cloudy throughout the day.</td>\n",
       "    </tr>\n",
       "    <tr>\n",
       "      <th>2</th>\n",
       "      <td>2006-04-01 02:00:00.000 +0200</td>\n",
       "      <td>Mostly Cloudy</td>\n",
       "      <td>rain</td>\n",
       "      <td>9.377778</td>\n",
       "      <td>9.377778</td>\n",
       "      <td>0.89</td>\n",
       "      <td>3.9284</td>\n",
       "      <td>204.0</td>\n",
       "      <td>14.9569</td>\n",
       "      <td>0.0</td>\n",
       "      <td>1015.94</td>\n",
       "      <td>Partly cloudy throughout the day.</td>\n",
       "    </tr>\n",
       "    <tr>\n",
       "      <th>3</th>\n",
       "      <td>2006-04-01 03:00:00.000 +0200</td>\n",
       "      <td>Partly Cloudy</td>\n",
       "      <td>rain</td>\n",
       "      <td>8.288889</td>\n",
       "      <td>5.944444</td>\n",
       "      <td>0.83</td>\n",
       "      <td>14.1036</td>\n",
       "      <td>269.0</td>\n",
       "      <td>15.8263</td>\n",
       "      <td>0.0</td>\n",
       "      <td>1016.41</td>\n",
       "      <td>Partly cloudy throughout the day.</td>\n",
       "    </tr>\n",
       "    <tr>\n",
       "      <th>4</th>\n",
       "      <td>2006-04-01 04:00:00.000 +0200</td>\n",
       "      <td>Mostly Cloudy</td>\n",
       "      <td>rain</td>\n",
       "      <td>8.755556</td>\n",
       "      <td>6.977778</td>\n",
       "      <td>0.83</td>\n",
       "      <td>11.0446</td>\n",
       "      <td>259.0</td>\n",
       "      <td>15.8263</td>\n",
       "      <td>0.0</td>\n",
       "      <td>1016.51</td>\n",
       "      <td>Partly cloudy throughout the day.</td>\n",
       "    </tr>\n",
       "  </tbody>\n",
       "</table>\n",
       "</div>"
      ]
     },
     "execution_count": 4,
     "metadata": {},
     "output_type": "execute_result"
    }
   ],
   "execution_count": 4
  },
  {
   "metadata": {
    "ExecuteTime": {
     "end_time": "2025-06-13T10:29:54.336344Z",
     "start_time": "2025-06-13T10:29:54.319287Z"
    }
   },
   "cell_type": "code",
   "source": [
    "# Check for missing data\n",
    "weather_data.isnull().sum()"
   ],
   "id": "a14a830eb2043b73",
   "outputs": [
    {
     "data": {
      "text/plain": [
       "Formatted Date                0\n",
       "Summary                       0\n",
       "Precip Type                 517\n",
       "Temperature (C)               0\n",
       "Apparent Temperature (C)      0\n",
       "Humidity                      0\n",
       "Wind Speed (km/h)             0\n",
       "Wind Bearing (degrees)        0\n",
       "Visibility (km)               0\n",
       "Loud Cover                    0\n",
       "Pressure (millibars)          0\n",
       "Daily Summary                 0\n",
       "dtype: int64"
      ]
     },
     "execution_count": 5,
     "metadata": {},
     "output_type": "execute_result"
    }
   ],
   "execution_count": 5
  },
  {
   "metadata": {
    "ExecuteTime": {
     "end_time": "2025-06-13T10:29:54.348155Z",
     "start_time": "2025-06-13T10:29:54.337353Z"
    }
   },
   "cell_type": "code",
   "source": [
    "# Drop 'Precip Type' as it has missing values and may not be needed for this project\n",
    "weather_data.drop(columns=['Precip Type'], inplace=True)"
   ],
   "id": "3da67165da29a243",
   "outputs": [],
   "execution_count": 6
  },
  {
   "metadata": {
    "ExecuteTime": {
     "end_time": "2025-06-13T10:29:54.400685Z",
     "start_time": "2025-06-13T10:29:54.350162Z"
    }
   },
   "cell_type": "code",
   "source": [
    "quantitative = weather_data.select_dtypes(include = [\"int64\",\"float64\"]).keys()\n",
    "weather_data[quantitative].describe()"
   ],
   "id": "64058cf97a46bdd0",
   "outputs": [
    {
     "data": {
      "text/plain": [
       "       Temperature (C)  Apparent Temperature (C)      Humidity  \\\n",
       "count     96453.000000              96453.000000  96453.000000   \n",
       "mean         11.932678                 10.855029      0.734899   \n",
       "std           9.551546                 10.696847      0.195473   \n",
       "min         -21.822222                -27.716667      0.000000   \n",
       "25%           4.688889                  2.311111      0.600000   \n",
       "50%          12.000000                 12.000000      0.780000   \n",
       "75%          18.838889                 18.838889      0.890000   \n",
       "max          39.905556                 39.344444      1.000000   \n",
       "\n",
       "       Wind Speed (km/h)  Wind Bearing (degrees)  Visibility (km)  Loud Cover  \\\n",
       "count       96453.000000            96453.000000     96453.000000     96453.0   \n",
       "mean           10.810640              187.509232        10.347325         0.0   \n",
       "std             6.913571              107.383428         4.192123         0.0   \n",
       "min             0.000000                0.000000         0.000000         0.0   \n",
       "25%             5.828200              116.000000         8.339800         0.0   \n",
       "50%             9.965900              180.000000        10.046400         0.0   \n",
       "75%            14.135800              290.000000        14.812000         0.0   \n",
       "max            63.852600              359.000000        16.100000         0.0   \n",
       "\n",
       "       Pressure (millibars)  \n",
       "count          96453.000000  \n",
       "mean            1003.235956  \n",
       "std              116.969906  \n",
       "min                0.000000  \n",
       "25%             1011.900000  \n",
       "50%             1016.450000  \n",
       "75%             1021.090000  \n",
       "max             1046.380000  "
      ],
      "text/html": [
       "<div>\n",
       "<style scoped>\n",
       "    .dataframe tbody tr th:only-of-type {\n",
       "        vertical-align: middle;\n",
       "    }\n",
       "\n",
       "    .dataframe tbody tr th {\n",
       "        vertical-align: top;\n",
       "    }\n",
       "\n",
       "    .dataframe thead th {\n",
       "        text-align: right;\n",
       "    }\n",
       "</style>\n",
       "<table border=\"1\" class=\"dataframe\">\n",
       "  <thead>\n",
       "    <tr style=\"text-align: right;\">\n",
       "      <th></th>\n",
       "      <th>Temperature (C)</th>\n",
       "      <th>Apparent Temperature (C)</th>\n",
       "      <th>Humidity</th>\n",
       "      <th>Wind Speed (km/h)</th>\n",
       "      <th>Wind Bearing (degrees)</th>\n",
       "      <th>Visibility (km)</th>\n",
       "      <th>Loud Cover</th>\n",
       "      <th>Pressure (millibars)</th>\n",
       "    </tr>\n",
       "  </thead>\n",
       "  <tbody>\n",
       "    <tr>\n",
       "      <th>count</th>\n",
       "      <td>96453.000000</td>\n",
       "      <td>96453.000000</td>\n",
       "      <td>96453.000000</td>\n",
       "      <td>96453.000000</td>\n",
       "      <td>96453.000000</td>\n",
       "      <td>96453.000000</td>\n",
       "      <td>96453.0</td>\n",
       "      <td>96453.000000</td>\n",
       "    </tr>\n",
       "    <tr>\n",
       "      <th>mean</th>\n",
       "      <td>11.932678</td>\n",
       "      <td>10.855029</td>\n",
       "      <td>0.734899</td>\n",
       "      <td>10.810640</td>\n",
       "      <td>187.509232</td>\n",
       "      <td>10.347325</td>\n",
       "      <td>0.0</td>\n",
       "      <td>1003.235956</td>\n",
       "    </tr>\n",
       "    <tr>\n",
       "      <th>std</th>\n",
       "      <td>9.551546</td>\n",
       "      <td>10.696847</td>\n",
       "      <td>0.195473</td>\n",
       "      <td>6.913571</td>\n",
       "      <td>107.383428</td>\n",
       "      <td>4.192123</td>\n",
       "      <td>0.0</td>\n",
       "      <td>116.969906</td>\n",
       "    </tr>\n",
       "    <tr>\n",
       "      <th>min</th>\n",
       "      <td>-21.822222</td>\n",
       "      <td>-27.716667</td>\n",
       "      <td>0.000000</td>\n",
       "      <td>0.000000</td>\n",
       "      <td>0.000000</td>\n",
       "      <td>0.000000</td>\n",
       "      <td>0.0</td>\n",
       "      <td>0.000000</td>\n",
       "    </tr>\n",
       "    <tr>\n",
       "      <th>25%</th>\n",
       "      <td>4.688889</td>\n",
       "      <td>2.311111</td>\n",
       "      <td>0.600000</td>\n",
       "      <td>5.828200</td>\n",
       "      <td>116.000000</td>\n",
       "      <td>8.339800</td>\n",
       "      <td>0.0</td>\n",
       "      <td>1011.900000</td>\n",
       "    </tr>\n",
       "    <tr>\n",
       "      <th>50%</th>\n",
       "      <td>12.000000</td>\n",
       "      <td>12.000000</td>\n",
       "      <td>0.780000</td>\n",
       "      <td>9.965900</td>\n",
       "      <td>180.000000</td>\n",
       "      <td>10.046400</td>\n",
       "      <td>0.0</td>\n",
       "      <td>1016.450000</td>\n",
       "    </tr>\n",
       "    <tr>\n",
       "      <th>75%</th>\n",
       "      <td>18.838889</td>\n",
       "      <td>18.838889</td>\n",
       "      <td>0.890000</td>\n",
       "      <td>14.135800</td>\n",
       "      <td>290.000000</td>\n",
       "      <td>14.812000</td>\n",
       "      <td>0.0</td>\n",
       "      <td>1021.090000</td>\n",
       "    </tr>\n",
       "    <tr>\n",
       "      <th>max</th>\n",
       "      <td>39.905556</td>\n",
       "      <td>39.344444</td>\n",
       "      <td>1.000000</td>\n",
       "      <td>63.852600</td>\n",
       "      <td>359.000000</td>\n",
       "      <td>16.100000</td>\n",
       "      <td>0.0</td>\n",
       "      <td>1046.380000</td>\n",
       "    </tr>\n",
       "  </tbody>\n",
       "</table>\n",
       "</div>"
      ]
     },
     "execution_count": 7,
     "metadata": {},
     "output_type": "execute_result"
    }
   ],
   "execution_count": 7
  },
  {
   "metadata": {
    "ExecuteTime": {
     "end_time": "2025-06-13T10:29:54.407873Z",
     "start_time": "2025-06-13T10:29:54.401691Z"
    }
   },
   "cell_type": "code",
   "source": "quantitative",
   "id": "91b7dde5d514beb6",
   "outputs": [
    {
     "data": {
      "text/plain": [
       "Index(['Temperature (C)', 'Apparent Temperature (C)', 'Humidity',\n",
       "       'Wind Speed (km/h)', 'Wind Bearing (degrees)', 'Visibility (km)',\n",
       "       'Loud Cover', 'Pressure (millibars)'],\n",
       "      dtype='object')"
      ]
     },
     "execution_count": 8,
     "metadata": {},
     "output_type": "execute_result"
    }
   ],
   "execution_count": 8
  },
  {
   "metadata": {
    "ExecuteTime": {
     "end_time": "2025-06-13T10:29:55.157945Z",
     "start_time": "2025-06-13T10:29:54.408883Z"
    }
   },
   "cell_type": "code",
   "source": [
    "rcParams['figure.figsize'] = 9, 9\n",
    "weather_data[quantitative].hist()"
   ],
   "id": "d63c542e0b9bd441",
   "outputs": [
    {
     "data": {
      "text/plain": [
       "array([[<Axes: title={'center': 'Temperature (C)'}>,\n",
       "        <Axes: title={'center': 'Apparent Temperature (C)'}>,\n",
       "        <Axes: title={'center': 'Humidity'}>],\n",
       "       [<Axes: title={'center': 'Wind Speed (km/h)'}>,\n",
       "        <Axes: title={'center': 'Wind Bearing (degrees)'}>,\n",
       "        <Axes: title={'center': 'Visibility (km)'}>],\n",
       "       [<Axes: title={'center': 'Loud Cover'}>,\n",
       "        <Axes: title={'center': 'Pressure (millibars)'}>, <Axes: >]],\n",
       "      dtype=object)"
      ]
     },
     "execution_count": 9,
     "metadata": {},
     "output_type": "execute_result"
    },
    {
     "data": {
      "text/plain": [
       "<Figure size 900x900 with 9 Axes>"
      ],
      "image/png": "[encoded data removed]"
     },
     "metadata": {},
     "output_type": "display_data"
    }
   ],
   "execution_count": 9
  },
  {
   "metadata": {
    "ExecuteTime": {
     "end_time": "2025-06-13T10:29:55.166488Z",
     "start_time": "2025-06-13T10:29:55.158961Z"
    }
   },
   "cell_type": "code",
   "source": [
    "features = ['Apparent Temperature (C)', 'Humidity', 'Wind Speed (km/h)', 'Pressure (millibars)']\n",
    "target = 'Temperature (C)'\n",
    "\n",
    "X = weather_data[features]\n",
    "y = weather_data[target]"
   ],
   "id": "48ac062906711203",
   "outputs": [],
   "execution_count": 10
  },
  {
   "metadata": {
    "ExecuteTime": {
     "end_time": "2025-06-13T10:29:55.177766Z",
     "start_time": "2025-06-13T10:29:55.167741Z"
    }
   },
   "cell_type": "code",
   "source": [
    "# Normalize features using MinMaxScaler\n",
    "scaler = MinMaxScaler()\n",
    "X_scaled = scaler.fit_transform(X)\n",
    "X_scaled"
   ],
   "id": "2c167c8ac399d51d",
   "outputs": [
    {
     "data": {
      "text/plain": [
       "array([[0.52348604, 0.89      , 0.2211296 , 0.97013513],\n",
       "       [0.52108359, 0.86      , 0.22339889, 0.97061297],\n",
       "       [0.5531439 , 0.89      , 0.06152295, 0.97090923],\n",
       "       ...,\n",
       "       [0.7419435 , 0.56      , 0.14069592, 0.97064164],\n",
       "       [0.73423909, 0.6       , 0.16490166, 0.97091879],\n",
       "       [0.71808467, 0.61      , 0.09203227, 0.97111948]])"
      ]
     },
     "execution_count": 11,
     "metadata": {},
     "output_type": "execute_result"
    }
   ],
   "execution_count": 11
  },
  {
   "metadata": {
    "ExecuteTime": {
     "end_time": "2025-06-13T10:29:55.196856Z",
     "start_time": "2025-06-13T10:29:55.178843Z"
    }
   },
   "cell_type": "code",
   "source": [
    "# Split the dataset into 80% training and 20% testing\n",
    "X_train, X_test, y_train, y_test = train_test_split(X_scaled, y, test_size=0.2, random_state=42)"
   ],
   "id": "a13cc5e3c4cde028",
   "outputs": [],
   "execution_count": 12
  },
  {
   "metadata": {
    "ExecuteTime": {
     "end_time": "2025-06-13T10:29:55.203397Z",
     "start_time": "2025-06-13T10:29:55.197866Z"
    }
   },
   "cell_type": "code",
   "source": [
    "# Spot-Check Algorithms\n",
    "models = []\n",
    "models.append(('LR', LinearRegression()))\n",
    "models.append(('KNN', KNeighborsRegressor(n_neighbors=42)))\n",
    "models.append(('DTM', DecisionTreeRegressor(random_state=5)))"
   ],
   "id": "878b494561ff5ff2",
   "outputs": [],
   "execution_count": 13
  },
  {
   "metadata": {
    "ExecuteTime": {
     "end_time": "2025-06-13T10:29:56.431742Z",
     "start_time": "2025-06-13T10:29:55.206911Z"
    }
   },
   "cell_type": "code",
   "source": [
    "score = []\n",
    "mse = []\n",
    "mae = []\n",
    "\n",
    "for name, model in models:\n",
    "\tmodel.fit(X_train, y_train)\n",
    "\ty_pred = model.predict(X_test)\n",
    "\tscore.append(r2_score(y_test, y_pred))\n",
    "\tmse.append(mean_squared_error(y_test, y_pred))\n",
    "\tmae.append(mean_absolute_error(y_test, y_pred))"
   ],
   "id": "3847ec1dc1638ad8",
   "outputs": [],
   "execution_count": 14
  },
  {
   "metadata": {
    "ExecuteTime": {
     "end_time": "2025-06-13T10:29:56.441510Z",
     "start_time": "2025-06-13T10:29:56.432752Z"
    }
   },
   "cell_type": "code",
   "source": [
    "results_df = pd.DataFrame({'Model': [name for name, _ in models],\n",
    "                           'R-squared Score': score,\n",
    "                           'Mean Squared Error': mse,\n",
    "                           'Mean Absolute Error': mae})\n",
    "\n",
    "results_df"
   ],
   "id": "a69edd4c0d38d2dc",
   "outputs": [
    {
     "data": {
      "text/plain": [
       "  Model  R-squared Score  Mean Squared Error  Mean Absolute Error\n",
       "0    LR         0.990216            0.901708             0.743507\n",
       "1   KNN         0.998143            0.171175             0.216090\n",
       "2   DTM         0.999944            0.005200             0.019767"
      ],
      "text/html": [
       "<div>\n",
       "<style scoped>\n",
       "    .dataframe tbody tr th:only-of-type {\n",
       "        vertical-align: middle;\n",
       "    }\n",
       "\n",
       "    .dataframe tbody tr th {\n",
       "        vertical-align: top;\n",
       "    }\n",
       "\n",
       "    .dataframe thead th {\n",
       "        text-align: right;\n",
       "    }\n",
       "</style>\n",
       "<table border=\"1\" class=\"dataframe\">\n",
       "  <thead>\n",
       "    <tr style=\"text-align: right;\">\n",
       "      <th></th>\n",
       "      <th>Model</th>\n",
       "      <th>R-squared Score</th>\n",
       "      <th>Mean Squared Error</th>\n",
       "      <th>Mean Absolute Error</th>\n",
       "    </tr>\n",
       "  </thead>\n",
       "  <tbody>\n",
       "    <tr>\n",
       "      <th>0</th>\n",
       "      <td>LR</td>\n",
       "      <td>0.990216</td>\n",
       "      <td>0.901708</td>\n",
       "      <td>0.743507</td>\n",
       "    </tr>\n",
       "    <tr>\n",
       "      <th>1</th>\n",
       "      <td>KNN</td>\n",
       "      <td>0.998143</td>\n",
       "      <td>0.171175</td>\n",
       "      <td>0.216090</td>\n",
       "    </tr>\n",
       "    <tr>\n",
       "      <th>2</th>\n",
       "      <td>DTM</td>\n",
       "      <td>0.999944</td>\n",
       "      <td>0.005200</td>\n",
       "      <td>0.019767</td>\n",
       "    </tr>\n",
       "  </tbody>\n",
       "</table>\n",
       "</div>"
      ]
     },
     "execution_count": 15,
     "metadata": {},
     "output_type": "execute_result"
    }
   ],
   "execution_count": 15
  },
  {
   "metadata": {
    "ExecuteTime": {
     "end_time": "2025-06-13T10:29:56.790949Z",
     "start_time": "2025-06-13T10:29:56.443044Z"
    }
   },
   "cell_type": "code",
   "source": [
    "fig, axs = plt.subplots(1, 3, figsize=(18, 6))\n",
    "\n",
    "# R-squared Score\n",
    "axs[0].bar(results_df['Model'], results_df['R-squared Score'], color='skyblue')\n",
    "axs[0].set_title('R-squared Score')\n",
    "axs[0].set_xlabel('Score')\n",
    "axs[0].grid(axis='y', linestyle='--', alpha=0.6)\n",
    "\n",
    "# Mean Squared Error\n",
    "axs[1].bar(results_df['Model'], results_df['Mean Squared Error'], color='salmon')\n",
    "axs[1].set_title('Mean Squared Error')\n",
    "axs[1].set_xlabel('MSE')\n",
    "axs[1].grid(axis='y', linestyle='--', alpha=0.6)\n",
    "\n",
    "# Mean Absolute Error\n",
    "axs[2].bar(results_df['Model'], results_df['Mean Absolute Error'], color='lightgreen')\n",
    "axs[2].set_title('Mean Absolute Error')\n",
    "axs[2].set_xlabel('MAE')\n",
    "axs[2].grid(axis='y', linestyle='--', alpha=0.6)\n",
    "\n",
    "plt.tight_layout()\n",
    "plt.show()"
   ],
   "id": "42a0c89d94416bb8",
   "outputs": [
    {
     "data": {
      "text/plain": [
       "<Figure size 1800x600 with 3 Axes>"
      ],
      "image/png": "[encoded data removed]"
     },
     "metadata": {},
     "output_type": "display_data"
    }
   ],
   "execution_count": 16
  },
  {
   "metadata": {},
   "cell_type": "markdown",
   "source": "# ASS 3\n",
   "id": "fb4295d354eacd05"
  },
  {
   "metadata": {},
   "cell_type": "markdown",
   "source": [
    "## Step 1: Evaluate Algorithms\n",
    "-  Divide data for learning and test cases\n",
    "-  Design a test harness to evaluate the selected algorithms on the chosen data and compare selecting with explanation the top 2 to investigate further\n",
    "-  Use cross-validation to check on overfitting and whether you require approaches to deal with overfitting"
   ],
   "id": "556e1f0954cf7e1e"
  },
  {
   "metadata": {
    "ExecuteTime": {
     "end_time": "2025-06-13T10:29:56.803674Z",
     "start_time": "2025-06-13T10:29:56.791464Z"
    }
   },
   "cell_type": "code",
   "source": [
    "# Divide data for learning and test cases (80-20)\n",
    "X_train, X_test, y_train, y_test = train_test_split(X_scaled, y, test_size=0.2, random_state=42)"
   ],
   "id": "526d75c1366d2a2c",
   "outputs": [],
   "execution_count": 17
  },
  {
   "metadata": {},
   "cell_type": "markdown",
   "source": [
    "In Here, we will evaluate the algorithm based on one of three metrics r2-score, mse and mae. \n",
    "\n",
    "First, let's analyze the strengths and weaknesses of each metric."
   ],
   "id": "a0173233c3c99abb"
  },
  {
   "metadata": {},
   "cell_type": "markdown",
   "source": [
    "## Mean Squared Error (MSE):\n",
    "- MSE measures the average square of the difference between the predicted value and the actual value. It represents the deviation between the prediction and the actual value.\n",
    "- Suitable when you want to evaluate the accuracy of the model in predicting a specific value.\n",
    "- MSE is sensitive to outliers because it calculates the square of the difference.\n",
    "\n",
    "## Mean Absolute Error (MAE):\n",
    "-   MAE measures the average absolute value of the difference between the predicted value and the actual value. It provides a view of the accuracy of the model.\n",
    "-   Suitable when you want a measure of the average prediction error that is not affected by outliers.\n",
    "-   MAE is less sensitive to outliers than MSE.\n",
    "\n",
    "## R-squared (R2 score):\n",
    "-   The R2 score measures how well the model explains the variance in the data. The closer the R2 value is to 1, the better the model.\n",
    "\n",
    "-   It is useful when you are interested in how much of the dependent variable your model explains.\n",
    "-   However, R2 does not reflect the specific prediction error, it only assesses the \"fit\" of the model.\n",
    "\n",
    "Now, let's define find_outliers_IQR function to check outliers of dataset"
   ],
   "id": "eb0a087dc213b174"
  },
  {
   "metadata": {
    "ExecuteTime": {
     "end_time": "2025-06-13T10:29:56.842737Z",
     "start_time": "2025-06-13T10:29:56.804685Z"
    }
   },
   "cell_type": "code",
   "source": [
    "def find_outliers_IQR(df):\n",
    "\n",
    "   q1=df.quantile(0.25)\n",
    "\n",
    "   q3=df.quantile(0.75)\n",
    "\n",
    "   IQR=q3-q1\n",
    "\n",
    "   outliers = df[((df<(q1-1.5*IQR)) | (df>(q3+1.5*IQR)))]\n",
    "\n",
    "   return outliers\n",
    "\n",
    "outliers_weather_data = find_outliers_IQR(weather_data.select_dtypes(include=['float64', 'int64']))\n",
    "\n",
    "outliers_weather_data.dropna().sum()"
   ],
   "id": "206f9cca338f2d65",
   "outputs": [
    {
     "data": {
      "text/plain": [
       "Temperature (C)             0.0\n",
       "Apparent Temperature (C)    0.0\n",
       "Humidity                    0.0\n",
       "Wind Speed (km/h)           0.0\n",
       "Wind Bearing (degrees)      0.0\n",
       "Visibility (km)             0.0\n",
       "Loud Cover                  0.0\n",
       "Pressure (millibars)        0.0\n",
       "dtype: float64"
      ]
     },
     "execution_count": 18,
     "metadata": {},
     "output_type": "execute_result"
    }
   ],
   "execution_count": 18
  },
  {
   "metadata": {},
   "cell_type": "markdown",
   "source": "As the result seen above, the dataset has no outliers, so we will choose MAE to evaluate the accuracy of the algorithm.",
   "id": "9179f11d6be4b222"
  },
  {
   "metadata": {
    "ExecuteTime": {
     "end_time": "2025-06-13T10:29:57.611527Z",
     "start_time": "2025-06-13T10:29:56.843745Z"
    }
   },
   "cell_type": "code",
   "source": [
    "# Design a test harness to evaluate the selected algorithms on the chosen data and compare selecting with explanation the top 2 to investigate further\n",
    "top_models = sorted(models, key=lambda x: mean_absolute_error(y_test, x[1].predict(X_test)), reverse=False)[:2]\n",
    "top_models"
   ],
   "id": "b4fa50d0bf5e6968",
   "outputs": [
    {
     "data": {
      "text/plain": [
       "[('DTM', DecisionTreeRegressor(random_state=5)),\n",
       " ('KNN', KNeighborsRegressor(n_neighbors=42))]"
      ]
     },
     "execution_count": 19,
     "metadata": {},
     "output_type": "execute_result"
    }
   ],
   "execution_count": 19
  },
  {
   "metadata": {},
   "cell_type": "markdown",
   "source": "As the result seen above, mae of DTM (0.019) < mae of KNN (0.216). This is a pretty big difference, so we will choose DTM as the main algorithm for this assignment.",
   "id": "9b06ed4c771ca10"
  },
  {
   "metadata": {
    "ExecuteTime": {
     "end_time": "2025-06-13T10:29:58.961606Z",
     "start_time": "2025-06-13T10:29:57.612536Z"
    }
   },
   "cell_type": "code",
   "source": [
    "dtm = DecisionTreeRegressor(random_state=5)\n",
    "dtm_scores = cross_val_score(dtm, X_train, y_train, cv=5, scoring='neg_mean_squared_error')\n",
    "dtm_scores"
   ],
   "id": "2cb993f19df94f0",
   "outputs": [
    {
     "data": {
      "text/plain": [
       "array([-0.00723608, -0.00605308, -0.00467673, -0.00677309, -0.00728073])"
      ]
     },
     "execution_count": 20,
     "metadata": {},
     "output_type": "execute_result"
    }
   ],
   "execution_count": 20
  },
  {
   "metadata": {},
   "cell_type": "markdown",
   "source": "These small negative MSE values indicate that your Decision Tree Regressor model is performing well on the test dataset when performing cross-validation.",
   "id": "a2a8c9a81f08e953"
  },
  {
   "metadata": {
    "ExecuteTime": {
     "end_time": "2025-06-13T10:30:01.604206Z",
     "start_time": "2025-06-13T10:29:58.962969Z"
    }
   },
   "cell_type": "code",
   "source": [
    "knn = KNeighborsRegressor(n_neighbors=42)\n",
    "knn_scores = cross_val_score(knn, X_train, y_train, cv=5, scoring='neg_mean_squared_error')\n",
    "knn_scores"
   ],
   "id": "49b133624747e876",
   "outputs": [
    {
     "data": {
      "text/plain": [
       "array([-0.2313503 , -0.23637505, -0.17539021, -0.23081863, -0.18515299])"
      ]
     },
     "execution_count": 21,
     "metadata": {},
     "output_type": "execute_result"
    }
   ],
   "execution_count": 21
  },
  {
   "metadata": {},
   "cell_type": "markdown",
   "source": [
    "# Step2. Improve Results\n",
    " -  Use algorithm tuning (using parameter tuning/hyper-parameter tuning) and possible ensemble methods to further improve the selected well-performing algorithms.\n",
    "  - Using GridSearch"
   ],
   "id": "ba46c008e036ea28"
  },
  {
   "metadata": {
    "ExecuteTime": {
     "end_time": "2025-06-13T10:30:20.678554Z",
     "start_time": "2025-06-13T10:30:01.605225Z"
    }
   },
   "cell_type": "code",
   "source": [
    "# Using GridSearchCV for DTM\n",
    "param_grid = {'random_state': range(10), 'splitter': ['best', 'random']} \n",
    "grid = GridSearchCV(DecisionTreeRegressor(),param_grid,refit=True,verbose=4)\n",
    "grid.fit(X_train,y_train)\n"
   ],
   "id": "c9f2c46965abf319",
   "outputs": [
    {
     "name": "stdout",
     "output_type": "stream",
     "text": [
      "Fitting 5 folds for each of 20 candidates, totalling 100 fits\n",
      "[CV 1/5] END .....random_state=0, splitter=best;, score=1.000 total time=   0.2s\n",
      "[CV 2/5] END .....random_state=0, splitter=best;, score=1.000 total time=   0.2s\n",
      "[CV 3/5] END .....random_state=0, splitter=best;, score=1.000 total time=   0.2s\n",
      "[CV 4/5] END .....random_state=0, splitter=best;, score=1.000 total time=   0.2s\n",
      "[CV 5/5] END .....random_state=0, splitter=best;, score=1.000 total time=   0.2s\n",
      "[CV 1/5] END ...random_state=0, splitter=random;, score=1.000 total time=   0.0s\n",
      "[CV 2/5] END ...random_state=0, splitter=random;, score=1.000 total time=   0.0s\n",
      "[CV 3/5] END ...random_state=0, splitter=random;, score=1.000 total time=   0.0s\n",
      "[CV 4/5] END ...random_state=0, splitter=random;, score=1.000 total time=   0.0s\n",
      "[CV 5/5] END ...random_state=0, splitter=random;, score=1.000 total time=   0.0s\n",
      "[CV 1/5] END .....random_state=1, splitter=best;, score=1.000 total time=   0.2s\n",
      "[CV 2/5] END .....random_state=1, splitter=best;, score=1.000 total time=   0.2s\n",
      "[CV 3/5] END .....random_state=1, splitter=best;, score=1.000 total time=   0.2s\n",
      "[CV 4/5] END .....random_state=1, splitter=best;, score=1.000 total time=   0.2s\n",
      "[CV 5/5] END .....random_state=1, splitter=best;, score=1.000 total time=   0.2s\n",
      "[CV 1/5] END ...random_state=1, splitter=random;, score=1.000 total time=   0.0s\n",
      "[CV 2/5] END ...random_state=1, splitter=random;, score=1.000 total time=   0.0s\n",
      "[CV 3/5] END ...random_state=1, splitter=random;, score=1.000 total time=   0.0s\n",
      "[CV 4/5] END ...random_state=1, splitter=random;, score=1.000 total time=   0.0s\n",
      "[CV 5/5] END ...random_state=1, splitter=random;, score=1.000 total time=   0.0s\n",
      "[CV 1/5] END .....random_state=2, splitter=best;, score=1.000 total time=   0.2s\n",
      "[CV 2/5] END .....random_state=2, splitter=best;, score=1.000 total time=   0.2s\n",
      "[CV 3/5] END .....random_state=2, splitter=best;, score=1.000 total time=   0.2s\n",
      "[CV 4/5] END .....random_state=2, splitter=best;, score=1.000 total time=   0.2s\n",
      "[CV 5/5] END .....random_state=2, splitter=best;, score=1.000 total time=   0.2s\n",
      "[CV 1/5] END ...random_state=2, splitter=random;, score=1.000 total time=   0.0s\n",
      "[CV 2/5] END ...random_state=2, splitter=random;, score=1.000 total time=   0.0s\n",
      "[CV 3/5] END ...random_state=2, splitter=random;, score=1.000 total time=   0.0s\n",
      "[CV 4/5] END ...random_state=2, splitter=random;, score=1.000 total time=   0.0s\n",
      "[CV 5/5] END ...random_state=2, splitter=random;, score=1.000 total time=   0.0s\n",
      "[CV 1/5] END .....random_state=3, splitter=best;, score=1.000 total time=   0.2s\n",
      "[CV 2/5] END .....random_state=3, splitter=best;, score=1.000 total time=   0.2s\n",
      "[CV 3/5] END .....random_state=3, splitter=best;, score=1.000 total time=   0.2s\n",
      "[CV 4/5] END .....random_state=3, splitter=best;, score=1.000 total time=   0.2s\n",
      "[CV 5/5] END .....random_state=3, splitter=best;, score=1.000 total time=   0.2s\n",
      "[CV 1/5] END ...random_state=3, splitter=random;, score=1.000 total time=   0.0s\n",
      "[CV 2/5] END ...random_state=3, splitter=random;, score=1.000 total time=   0.0s\n",
      "[CV 3/5] END ...random_state=3, splitter=random;, score=1.000 total time=   0.0s\n",
      "[CV 4/5] END ...random_state=3, splitter=random;, score=1.000 total time=   0.0s\n",
      "[CV 5/5] END ...random_state=3, splitter=random;, score=1.000 total time=   0.0s\n",
      "[CV 1/5] END .....random_state=4, splitter=best;, score=1.000 total time=   0.2s\n",
      "[CV 2/5] END .....random_state=4, splitter=best;, score=1.000 total time=   0.2s\n",
      "[CV 3/5] END .....random_state=4, splitter=best;, score=1.000 total time=   0.2s\n",
      "[CV 4/5] END .....random_state=4, splitter=best;, score=1.000 total time=   0.2s\n",
      "[CV 5/5] END .....random_state=4, splitter=best;, score=1.000 total time=   0.2s\n",
      "[CV 1/5] END ...random_state=4, splitter=random;, score=1.000 total time=   0.0s\n",
      "[CV 2/5] END ...random_state=4, splitter=random;, score=1.000 total time=   0.0s\n",
      "[CV 3/5] END ...random_state=4, splitter=random;, score=1.000 total time=   0.0s\n",
      "[CV 4/5] END ...random_state=4, splitter=random;, score=1.000 total time=   0.0s\n",
      "[CV 5/5] END ...random_state=4, splitter=random;, score=1.000 total time=   0.0s\n",
      "[CV 1/5] END .....random_state=5, splitter=best;, score=1.000 total time=   0.2s\n",
      "[CV 2/5] END .....random_state=5, splitter=best;, score=1.000 total time=   0.2s\n",
      "[CV 3/5] END .....random_state=5, splitter=best;, score=1.000 total time=   0.2s\n",
      "[CV 4/5] END .....random_state=5, splitter=best;, score=1.000 total time=   0.2s\n",
      "[CV 5/5] END .....random_state=5, splitter=best;, score=1.000 total time=   0.2s\n",
      "[CV 1/5] END ...random_state=5, splitter=random;, score=1.000 total time=   0.0s\n",
      "[CV 2/5] END ...random_state=5, splitter=random;, score=1.000 total time=   0.0s\n",
      "[CV 3/5] END ...random_state=5, splitter=random;, score=1.000 total time=   0.0s\n",
      "[CV 4/5] END ...random_state=5, splitter=random;, score=1.000 total time=   0.0s\n",
      "[CV 5/5] END ...random_state=5, splitter=random;, score=1.000 total time=   0.0s\n",
      "[CV 1/5] END .....random_state=6, splitter=best;, score=1.000 total time=   0.2s\n",
      "[CV 2/5] END .....random_state=6, splitter=best;, score=1.000 total time=   0.2s\n",
      "[CV 3/5] END .....random_state=6, splitter=best;, score=1.000 total time=   0.2s\n",
      "[CV 4/5] END .....random_state=6, splitter=best;, score=1.000 total time=   0.2s\n",
      "[CV 5/5] END .....random_state=6, splitter=best;, score=1.000 total time=   0.2s\n",
      "[CV 1/5] END ...random_state=6, splitter=random;, score=1.000 total time=   0.0s\n",
      "[CV 2/5] END ...random_state=6, splitter=random;, score=1.000 total time=   0.0s\n",
      "[CV 3/5] END ...random_state=6, splitter=random;, score=1.000 total time=   0.0s\n",
      "[CV 4/5] END ...random_state=6, splitter=random;, score=1.000 total time=   0.0s\n",
      "[CV 5/5] END ...random_state=6, splitter=random;, score=1.000 total time=   0.0s\n",
      "[CV 1/5] END .....random_state=7, splitter=best;, score=1.000 total time=   0.2s\n",
      "[CV 2/5] END .....random_state=7, splitter=best;, score=1.000 total time=   0.2s\n",
      "[CV 3/5] END .....random_state=7, splitter=best;, score=1.000 total time=   0.2s\n",
      "[CV 4/5] END .....random_state=7, splitter=best;, score=1.000 total time=   0.2s\n",
      "[CV 5/5] END .....random_state=7, splitter=best;, score=1.000 total time=   0.2s\n",
      "[CV 1/5] END ...random_state=7, splitter=random;, score=1.000 total time=   0.0s\n",
      "[CV 2/5] END ...random_state=7, splitter=random;, score=1.000 total time=   0.0s\n",
      "[CV 3/5] END ...random_state=7, splitter=random;, score=1.000 total time=   0.0s\n",
      "[CV 4/5] END ...random_state=7, splitter=random;, score=1.000 total time=   0.0s\n",
      "[CV 5/5] END ...random_state=7, splitter=random;, score=1.000 total time=   0.0s\n",
      "[CV 1/5] END .....random_state=8, splitter=best;, score=1.000 total time=   0.2s\n",
      "[CV 2/5] END .....random_state=8, splitter=best;, score=1.000 total time=   0.2s\n",
      "[CV 3/5] END .....random_state=8, splitter=best;, score=1.000 total time=   0.2s\n",
      "[CV 4/5] END .....random_state=8, splitter=best;, score=1.000 total time=   0.2s\n",
      "[CV 5/5] END .....random_state=8, splitter=best;, score=1.000 total time=   0.2s\n",
      "[CV 1/5] END ...random_state=8, splitter=random;, score=1.000 total time=   0.0s\n",
      "[CV 2/5] END ...random_state=8, splitter=random;, score=1.000 total time=   0.0s\n",
      "[CV 3/5] END ...random_state=8, splitter=random;, score=1.000 total time=   0.0s\n",
      "[CV 4/5] END ...random_state=8, splitter=random;, score=1.000 total time=   0.0s\n",
      "[CV 5/5] END ...random_state=8, splitter=random;, score=1.000 total time=   0.0s\n",
      "[CV 1/5] END .....random_state=9, splitter=best;, score=1.000 total time=   0.2s\n",
      "[CV 2/5] END .....random_state=9, splitter=best;, score=1.000 total time=   0.3s\n",
      "[CV 3/5] END .....random_state=9, splitter=best;, score=1.000 total time=   0.2s\n",
      "[CV 4/5] END .....random_state=9, splitter=best;, score=1.000 total time=   0.2s\n",
      "[CV 5/5] END .....random_state=9, splitter=best;, score=1.000 total time=   0.2s\n",
      "[CV 1/5] END ...random_state=9, splitter=random;, score=1.000 total time=   0.0s\n",
      "[CV 2/5] END ...random_state=9, splitter=random;, score=1.000 total time=   0.0s\n",
      "[CV 3/5] END ...random_state=9, splitter=random;, score=1.000 total time=   0.0s\n",
      "[CV 4/5] END ...random_state=9, splitter=random;, score=1.000 total time=   0.0s\n",
      "[CV 5/5] END ...random_state=9, splitter=random;, score=1.000 total time=   0.0s\n"
     ]
    },
    {
     "data": {
      "text/plain": [
       "GridSearchCV(estimator=DecisionTreeRegressor(),\n",
       "             param_grid={'random_state': range(0, 10),\n",
       "                         'splitter': ['best', 'random']},\n",
       "             verbose=4)"
      ],
      "text/html": [
       "<style>#sk-container-id-1 {\n",
       "  /* Definition of color scheme common for light and dark mode */\n",
       "  --sklearn-color-text: black;\n",
       "  --sklearn-color-line: gray;\n",
       "  /* Definition of color scheme for unfitted estimators */\n",
       "  --sklearn-color-unfitted-level-0: #fff5e6;\n",
       "  --sklearn-color-unfitted-level-1: #f6e4d2;\n",
       "  --sklearn-color-unfitted-level-2: #ffe0b3;\n",
       "  --sklearn-color-unfitted-level-3: chocolate;\n",
       "  /* Definition of color scheme for fitted estimators */\n",
       "  --sklearn-color-fitted-level-0: #f0f8ff;\n",
       "  --sklearn-color-fitted-level-1: #d4ebff;\n",
       "  --sklearn-color-fitted-level-2: #b3dbfd;\n",
       "  --sklearn-color-fitted-level-3: cornflowerblue;\n",
       "\n",
       "  /* Specific color for light theme */\n",
       "  --sklearn-color-text-on-default-background: var(--sg-text-color, var(--theme-code-foreground, var(--jp-content-font-color1, black)));\n",
       "  --sklearn-color-background: var(--sg-background-color, var(--theme-background, var(--jp-layout-color0, white)));\n",
       "  --sklearn-color-border-box: var(--sg-text-color, var(--theme-code-foreground, var(--jp-content-font-color1, black)));\n",
       "  --sklearn-color-icon: #696969;\n",
       "\n",
       "  @media (prefers-color-scheme: dark) {\n",
       "    /* Redefinition of color scheme for dark theme */\n",
       "    --sklearn-color-text-on-default-background: var(--sg-text-color, var(--theme-code-foreground, var(--jp-content-font-color1, white)));\n",
       "    --sklearn-color-background: var(--sg-background-color, var(--theme-background, var(--jp-layout-color0, #111)));\n",
       "    --sklearn-color-border-box: var(--sg-text-color, var(--theme-code-foreground, var(--jp-content-font-color1, white)));\n",
       "    --sklearn-color-icon: #878787;\n",
       "  }\n",
       "}\n",
       "\n",
       "#sk-container-id-1 {\n",
       "  color: var(--sklearn-color-text);\n",
       "}\n",
       "\n",
       "#sk-container-id-1 pre {\n",
       "  padding: 0;\n",
       "}\n",
       "\n",
       "#sk-container-id-1 input.sk-hidden--visually {\n",
       "  border: 0;\n",
       "  clip: rect(1px 1px 1px 1px);\n",
       "  clip: rect(1px, 1px, 1px, 1px);\n",
       "  height: 1px;\n",
       "  margin: -1px;\n",
       "  overflow: hidden;\n",
       "  padding: 0;\n",
       "  position: absolute;\n",
       "  width: 1px;\n",
       "}\n",
       "\n",
       "#sk-container-id-1 div.sk-dashed-wrapped {\n",
       "  border: 1px dashed var(--sklearn-color-line);\n",
       "  margin: 0 0.4em 0.5em 0.4em;\n",
       "  box-sizing: border-box;\n",
       "  padding-bottom: 0.4em;\n",
       "  background-color: var(--sklearn-color-background);\n",
       "}\n",
       "\n",
       "#sk-container-id-1 div.sk-container {\n",
       "  /* jupyter's `normalize.less` sets `[hidden] { display: none; }`\n",
       "     but bootstrap.min.css set `[hidden] { display: none !important; }`\n",
       "     so we also need the `!important` here to be able to override the\n",
       "     default hidden behavior on the sphinx rendered scikit-learn.org.\n",
       "     See: https://github.com/scikit-learn/scikit-learn/issues/21755 */\n",
       "  display: inline-block !important;\n",
       "  position: relative;\n",
       "}\n",
       "\n",
       "#sk-container-id-1 div.sk-text-repr-fallback {\n",
       "  display: none;\n",
       "}\n",
       "\n",
       "div.sk-parallel-item,\n",
       "div.sk-serial,\n",
       "div.sk-item {\n",
       "  /* draw centered vertical line to link estimators */\n",
       "  background-image: linear-gradient(var(--sklearn-color-text-on-default-background), var(--sklearn-color-text-on-default-background));\n",
       "  background-size: 2px 100%;\n",
       "  background-repeat: no-repeat;\n",
       "  background-position: center center;\n",
       "}\n",
       "\n",
       "/* Parallel-specific style estimator block */\n",
       "\n",
       "#sk-container-id-1 div.sk-parallel-item::after {\n",
       "  content: \"\";\n",
       "  width: 100%;\n",
       "  border-bottom: 2px solid var(--sklearn-color-text-on-default-background);\n",
       "  flex-grow: 1;\n",
       "}\n",
       "\n",
       "#sk-container-id-1 div.sk-parallel {\n",
       "  display: flex;\n",
       "  align-items: stretch;\n",
       "  justify-content: center;\n",
       "  background-color: var(--sklearn-color-background);\n",
       "  position: relative;\n",
       "}\n",
       "\n",
       "#sk-container-id-1 div.sk-parallel-item {\n",
       "  display: flex;\n",
       "  flex-direction: column;\n",
       "}\n",
       "\n",
       "#sk-container-id-1 div.sk-parallel-item:first-child::after {\n",
       "  align-self: flex-end;\n",
       "  width: 50%;\n",
       "}\n",
       "\n",
       "#sk-container-id-1 div.sk-parallel-item:last-child::after {\n",
       "  align-self: flex-start;\n",
       "  width: 50%;\n",
       "}\n",
       "\n",
       "#sk-container-id-1 div.sk-parallel-item:only-child::after {\n",
       "  width: 0;\n",
       "}\n",
       "\n",
       "/* Serial-specific style estimator block */\n",
       "\n",
       "#sk-container-id-1 div.sk-serial {\n",
       "  display: flex;\n",
       "  flex-direction: column;\n",
       "  align-items: center;\n",
       "  background-color: var(--sklearn-color-background);\n",
       "  padding-right: 1em;\n",
       "  padding-left: 1em;\n",
       "}\n",
       "\n",
       "\n",
       "/* Toggleable style: style used for estimator/Pipeline/ColumnTransformer box that is\n",
       "clickable and can be expanded/collapsed.\n",
       "- Pipeline and ColumnTransformer use this feature and define the default style\n",
       "- Estimators will overwrite some part of the style using the `sk-estimator` class\n",
       "*/\n",
       "\n",
       "/* Pipeline and ColumnTransformer style (default) */\n",
       "\n",
       "#sk-container-id-1 div.sk-toggleable {\n",
       "  /* Default theme specific background. It is overwritten whether we have a\n",
       "  specific estimator or a Pipeline/ColumnTransformer */\n",
       "  background-color: var(--sklearn-color-background);\n",
       "}\n",
       "\n",
       "/* Toggleable label */\n",
       "#sk-container-id-1 label.sk-toggleable__label {\n",
       "  cursor: pointer;\n",
       "  display: block;\n",
       "  width: 100%;\n",
       "  margin-bottom: 0;\n",
       "  padding: 0.5em;\n",
       "  box-sizing: border-box;\n",
       "  text-align: center;\n",
       "}\n",
       "\n",
       "#sk-container-id-1 label.sk-toggleable__label-arrow:before {\n",
       "  /* Arrow on the left of the label */\n",
       "  content: \"▸\";\n",
       "  float: left;\n",
       "  margin-right: 0.25em;\n",
       "  color: var(--sklearn-color-icon);\n",
       "}\n",
       "\n",
       "#sk-container-id-1 label.sk-toggleable__label-arrow:hover:before {\n",
       "  color: var(--sklearn-color-text);\n",
       "}\n",
       "\n",
       "/* Toggleable content - dropdown */\n",
       "\n",
       "#sk-container-id-1 div.sk-toggleable__content {\n",
       "  max-height: 0;\n",
       "  max-width: 0;\n",
       "  overflow: hidden;\n",
       "  text-align: left;\n",
       "  /* unfitted */\n",
       "  background-color: var(--sklearn-color-unfitted-level-0);\n",
       "}\n",
       "\n",
       "#sk-container-id-1 div.sk-toggleable__content.fitted {\n",
       "  /* fitted */\n",
       "  background-color: var(--sklearn-color-fitted-level-0);\n",
       "}\n",
       "\n",
       "#sk-container-id-1 div.sk-toggleable__content pre {\n",
       "  margin: 0.2em;\n",
       "  border-radius: 0.25em;\n",
       "  color: var(--sklearn-color-text);\n",
       "  /* unfitted */\n",
       "  background-color: var(--sklearn-color-unfitted-level-0);\n",
       "}\n",
       "\n",
       "#sk-container-id-1 div.sk-toggleable__content.fitted pre {\n",
       "  /* unfitted */\n",
       "  background-color: var(--sklearn-color-fitted-level-0);\n",
       "}\n",
       "\n",
       "#sk-container-id-1 input.sk-toggleable__control:checked~div.sk-toggleable__content {\n",
       "  /* Expand drop-down */\n",
       "  max-height: 200px;\n",
       "  max-width: 100%;\n",
       "  overflow: auto;\n",
       "}\n",
       "\n",
       "#sk-container-id-1 input.sk-toggleable__control:checked~label.sk-toggleable__label-arrow:before {\n",
       "  content: \"▾\";\n",
       "}\n",
       "\n",
       "/* Pipeline/ColumnTransformer-specific style */\n",
       "\n",
       "#sk-container-id-1 div.sk-label input.sk-toggleable__control:checked~label.sk-toggleable__label {\n",
       "  color: var(--sklearn-color-text);\n",
       "  background-color: var(--sklearn-color-unfitted-level-2);\n",
       "}\n",
       "\n",
       "#sk-container-id-1 div.sk-label.fitted input.sk-toggleable__control:checked~label.sk-toggleable__label {\n",
       "  background-color: var(--sklearn-color-fitted-level-2);\n",
       "}\n",
       "\n",
       "/* Estimator-specific style */\n",
       "\n",
       "/* Colorize estimator box */\n",
       "#sk-container-id-1 div.sk-estimator input.sk-toggleable__control:checked~label.sk-toggleable__label {\n",
       "  /* unfitted */\n",
       "  background-color: var(--sklearn-color-unfitted-level-2);\n",
       "}\n",
       "\n",
       "#sk-container-id-1 div.sk-estimator.fitted input.sk-toggleable__control:checked~label.sk-toggleable__label {\n",
       "  /* fitted */\n",
       "  background-color: var(--sklearn-color-fitted-level-2);\n",
       "}\n",
       "\n",
       "#sk-container-id-1 div.sk-label label.sk-toggleable__label,\n",
       "#sk-container-id-1 div.sk-label label {\n",
       "  /* The background is the default theme color */\n",
       "  color: var(--sklearn-color-text-on-default-background);\n",
       "}\n",
       "\n",
       "/* On hover, darken the color of the background */\n",
       "#sk-container-id-1 div.sk-label:hover label.sk-toggleable__label {\n",
       "  color: var(--sklearn-color-text);\n",
       "  background-color: var(--sklearn-color-unfitted-level-2);\n",
       "}\n",
       "\n",
       "/* Label box, darken color on hover, fitted */\n",
       "#sk-container-id-1 div.sk-label.fitted:hover label.sk-toggleable__label.fitted {\n",
       "  color: var(--sklearn-color-text);\n",
       "  background-color: var(--sklearn-color-fitted-level-2);\n",
       "}\n",
       "\n",
       "/* Estimator label */\n",
       "\n",
       "#sk-container-id-1 div.sk-label label {\n",
       "  font-family: monospace;\n",
       "  font-weight: bold;\n",
       "  display: inline-block;\n",
       "  line-height: 1.2em;\n",
       "}\n",
       "\n",
       "#sk-container-id-1 div.sk-label-container {\n",
       "  text-align: center;\n",
       "}\n",
       "\n",
       "/* Estimator-specific */\n",
       "#sk-container-id-1 div.sk-estimator {\n",
       "  font-family: monospace;\n",
       "  border: 1px dotted var(--sklearn-color-border-box);\n",
       "  border-radius: 0.25em;\n",
       "  box-sizing: border-box;\n",
       "  margin-bottom: 0.5em;\n",
       "  /* unfitted */\n",
       "  background-color: var(--sklearn-color-unfitted-level-0);\n",
       "}\n",
       "\n",
       "#sk-container-id-1 div.sk-estimator.fitted {\n",
       "  /* fitted */\n",
       "  background-color: var(--sklearn-color-fitted-level-0);\n",
       "}\n",
       "\n",
       "/* on hover */\n",
       "#sk-container-id-1 div.sk-estimator:hover {\n",
       "  /* unfitted */\n",
       "  background-color: var(--sklearn-color-unfitted-level-2);\n",
       "}\n",
       "\n",
       "#sk-container-id-1 div.sk-estimator.fitted:hover {\n",
       "  /* fitted */\n",
       "  background-color: var(--sklearn-color-fitted-level-2);\n",
       "}\n",
       "\n",
       "/* Specification for estimator info (e.g. \"i\" and \"?\") */\n",
       "\n",
       "/* Common style for \"i\" and \"?\" */\n",
       "\n",
       ".sk-estimator-doc-link,\n",
       "a:link.sk-estimator-doc-link,\n",
       "a:visited.sk-estimator-doc-link {\n",
       "  float: right;\n",
       "  font-size: smaller;\n",
       "  line-height: 1em;\n",
       "  font-family: monospace;\n",
       "  background-color: var(--sklearn-color-background);\n",
       "  border-radius: 1em;\n",
       "  height: 1em;\n",
       "  width: 1em;\n",
       "  text-decoration: none !important;\n",
       "  margin-left: 1ex;\n",
       "  /* unfitted */\n",
       "  border: var(--sklearn-color-unfitted-level-1) 1pt solid;\n",
       "  color: var(--sklearn-color-unfitted-level-1);\n",
       "}\n",
       "\n",
       ".sk-estimator-doc-link.fitted,\n",
       "a:link.sk-estimator-doc-link.fitted,\n",
       "a:visited.sk-estimator-doc-link.fitted {\n",
       "  /* fitted */\n",
       "  border: var(--sklearn-color-fitted-level-1) 1pt solid;\n",
       "  color: var(--sklearn-color-fitted-level-1);\n",
       "}\n",
       "\n",
       "/* On hover */\n",
       "div.sk-estimator:hover .sk-estimator-doc-link:hover,\n",
       ".sk-estimator-doc-link:hover,\n",
       "div.sk-label-container:hover .sk-estimator-doc-link:hover,\n",
       ".sk-estimator-doc-link:hover {\n",
       "  /* unfitted */\n",
       "  background-color: var(--sklearn-color-unfitted-level-3);\n",
       "  color: var(--sklearn-color-background);\n",
       "  text-decoration: none;\n",
       "}\n",
       "\n",
       "div.sk-estimator.fitted:hover .sk-estimator-doc-link.fitted:hover,\n",
       ".sk-estimator-doc-link.fitted:hover,\n",
       "div.sk-label-container:hover .sk-estimator-doc-link.fitted:hover,\n",
       ".sk-estimator-doc-link.fitted:hover {\n",
       "  /* fitted */\n",
       "  background-color: var(--sklearn-color-fitted-level-3);\n",
       "  color: var(--sklearn-color-background);\n",
       "  text-decoration: none;\n",
       "}\n",
       "\n",
       "/* Span, style for the box shown on hovering the info icon */\n",
       ".sk-estimator-doc-link span {\n",
       "  display: none;\n",
       "  z-index: 9999;\n",
       "  position: relative;\n",
       "  font-weight: normal;\n",
       "  right: .2ex;\n",
       "  padding: .5ex;\n",
       "  margin: .5ex;\n",
       "  width: min-content;\n",
       "  min-width: 20ex;\n",
       "  max-width: 50ex;\n",
       "  color: var(--sklearn-color-text);\n",
       "  box-shadow: 2pt 2pt 4pt #999;\n",
       "  /* unfitted */\n",
       "  background: var(--sklearn-color-unfitted-level-0);\n",
       "  border: .5pt solid var(--sklearn-color-unfitted-level-3);\n",
       "}\n",
       "\n",
       ".sk-estimator-doc-link.fitted span {\n",
       "  /* fitted */\n",
       "  background: var(--sklearn-color-fitted-level-0);\n",
       "  border: var(--sklearn-color-fitted-level-3);\n",
       "}\n",
       "\n",
       ".sk-estimator-doc-link:hover span {\n",
       "  display: block;\n",
       "}\n",
       "\n",
       "/* \"?\"-specific style due to the `<a>` HTML tag */\n",
       "\n",
       "#sk-container-id-1 a.estimator_doc_link {\n",
       "  float: right;\n",
       "  font-size: 1rem;\n",
       "  line-height: 1em;\n",
       "  font-family: monospace;\n",
       "  background-color: var(--sklearn-color-background);\n",
       "  border-radius: 1rem;\n",
       "  height: 1rem;\n",
       "  width: 1rem;\n",
       "  text-decoration: none;\n",
       "  /* unfitted */\n",
       "  color: var(--sklearn-color-unfitted-level-1);\n",
       "  border: var(--sklearn-color-unfitted-level-1) 1pt solid;\n",
       "}\n",
       "\n",
       "#sk-container-id-1 a.estimator_doc_link.fitted {\n",
       "  /* fitted */\n",
       "  border: var(--sklearn-color-fitted-level-1) 1pt solid;\n",
       "  color: var(--sklearn-color-fitted-level-1);\n",
       "}\n",
       "\n",
       "/* On hover */\n",
       "#sk-container-id-1 a.estimator_doc_link:hover {\n",
       "  /* unfitted */\n",
       "  background-color: var(--sklearn-color-unfitted-level-3);\n",
       "  color: var(--sklearn-color-background);\n",
       "  text-decoration: none;\n",
       "}\n",
       "\n",
       "#sk-container-id-1 a.estimator_doc_link.fitted:hover {\n",
       "  /* fitted */\n",
       "  background-color: var(--sklearn-color-fitted-level-3);\n",
       "}\n",
       "</style><div id=\"sk-container-id-1\" class=\"sk-top-container\"><div class=\"sk-text-repr-fallback\"><pre>GridSearchCV(estimator=DecisionTreeRegressor(),\n",
       "             param_grid={&#x27;random_state&#x27;: range(0, 10),\n",
       "                         &#x27;splitter&#x27;: [&#x27;best&#x27;, &#x27;random&#x27;]},\n",
       "             verbose=4)</pre><b>In a Jupyter environment, please rerun this cell to show the HTML representation or trust the notebook. <br />On GitHub, the HTML representation is unable to render, please try loading this page with nbviewer.org.</b></div><div class=\"sk-container\" hidden><div class=\"sk-item sk-dashed-wrapped\"><div class=\"sk-label-container\"><div class=\"sk-label fitted sk-toggleable\"><input class=\"sk-toggleable__control sk-hidden--visually\" id=\"sk-estimator-id-1\" type=\"checkbox\" ><label for=\"sk-estimator-id-1\" class=\"sk-toggleable__label fitted sk-toggleable__label-arrow fitted\">&nbsp;&nbsp;GridSearchCV<a class=\"sk-estimator-doc-link fitted\" rel=\"noreferrer\" target=\"_blank\" href=\"https://scikit-learn.org/1.5/modules/generated/sklearn.model_selection.GridSearchCV.html\">?<span>Documentation for GridSearchCV</span></a><span class=\"sk-estimator-doc-link fitted\">i<span>Fitted</span></span></label><div class=\"sk-toggleable__content fitted\"><pre>GridSearchCV(estimator=DecisionTreeRegressor(),\n",
       "             param_grid={&#x27;random_state&#x27;: range(0, 10),\n",
       "                         &#x27;splitter&#x27;: [&#x27;best&#x27;, &#x27;random&#x27;]},\n",
       "             verbose=4)</pre></div> </div></div><div class=\"sk-parallel\"><div class=\"sk-parallel-item\"><div class=\"sk-item\"><div class=\"sk-label-container\"><div class=\"sk-label fitted sk-toggleable\"><input class=\"sk-toggleable__control sk-hidden--visually\" id=\"sk-estimator-id-2\" type=\"checkbox\" ><label for=\"sk-estimator-id-2\" class=\"sk-toggleable__label fitted sk-toggleable__label-arrow fitted\">best_estimator_: DecisionTreeRegressor</label><div class=\"sk-toggleable__content fitted\"><pre>DecisionTreeRegressor(random_state=2)</pre></div> </div></div><div class=\"sk-serial\"><div class=\"sk-item\"><div class=\"sk-estimator fitted sk-toggleable\"><input class=\"sk-toggleable__control sk-hidden--visually\" id=\"sk-estimator-id-3\" type=\"checkbox\" ><label for=\"sk-estimator-id-3\" class=\"sk-toggleable__label fitted sk-toggleable__label-arrow fitted\">&nbsp;DecisionTreeRegressor<a class=\"sk-estimator-doc-link fitted\" rel=\"noreferrer\" target=\"_blank\" href=\"https://scikit-learn.org/1.5/modules/generated/sklearn.tree.DecisionTreeRegressor.html\">?<span>Documentation for DecisionTreeRegressor</span></a></label><div class=\"sk-toggleable__content fitted\"><pre>DecisionTreeRegressor(random_state=2)</pre></div> </div></div></div></div></div></div></div></div></div>"
      ]
     },
     "execution_count": 22,
     "metadata": {},
     "output_type": "execute_result"
    }
   ],
   "execution_count": 22
  },
  {
   "metadata": {
    "ExecuteTime": {
     "end_time": "2025-06-13T10:30:20.684749Z",
     "start_time": "2025-06-13T10:30:20.680080Z"
    }
   },
   "cell_type": "code",
   "source": [
    "print (grid.best_params_)\n",
    "print ('\\n')\n",
    "print (grid.best_estimator_)\n"
   ],
   "id": "4ee4d787e0a7fc59",
   "outputs": [
    {
     "name": "stdout",
     "output_type": "stream",
     "text": [
      "{'random_state': 2, 'splitter': 'best'}\n",
      "\n",
      "\n",
      "DecisionTreeRegressor(random_state=2)\n"
     ]
    }
   ],
   "execution_count": 23
  },
  {
   "metadata": {
    "jupyter": {
     "is_executing": true
    },
    "ExecuteTime": {
     "start_time": "2025-06-13T10:30:20.685767Z"
    }
   },
   "cell_type": "code",
   "source": [
    "# Using GridSearchCV for KNN\n",
    "param_grid = {'n_neighbors': range(1, 50)} \n",
    "grid = GridSearchCV(KNeighborsRegressor(), param_grid, refit=True, verbose=4)\n",
    "grid.fit(X_train,y_train)\n"
   ],
   "id": "e9c371f8adfbb3fb",
   "outputs": [
    {
     "name": "stdout",
     "output_type": "stream",
     "text": [
      "Fitting 5 folds for each of 49 candidates, totalling 245 fits\n",
      "[CV 1/5] END .....................n_neighbors=1;, score=0.999 total time=   0.1s\n",
      "[CV 2/5] END .....................n_neighbors=1;, score=0.999 total time=   0.1s\n",
      "[CV 3/5] END .....................n_neighbors=1;, score=0.999 total time=   0.1s\n",
      "[CV 4/5] END .....................n_neighbors=1;, score=0.999 total time=   0.1s\n",
      "[CV 5/5] END .....................n_neighbors=1;, score=0.999 total time=   0.1s\n",
      "[CV 1/5] END .....................n_neighbors=2;, score=0.999 total time=   0.1s\n",
      "[CV 2/5] END .....................n_neighbors=2;, score=0.999 total time=   0.1s\n",
      "[CV 3/5] END .....................n_neighbors=2;, score=0.999 total time=   0.1s\n",
      "[CV 4/5] END .....................n_neighbors=2;, score=0.999 total time=   0.1s\n",
      "[CV 5/5] END .....................n_neighbors=2;, score=0.999 total time=   0.1s\n",
      "[CV 1/5] END .....................n_neighbors=3;, score=0.999 total time=   0.2s\n",
      "[CV 2/5] END .....................n_neighbors=3;, score=0.999 total time=   0.1s\n",
      "[CV 3/5] END .....................n_neighbors=3;, score=0.999 total time=   0.1s\n",
      "[CV 4/5] END .....................n_neighbors=3;, score=0.999 total time=   0.2s\n",
      "[CV 5/5] END .....................n_neighbors=3;, score=0.999 total time=   0.1s\n",
      "[CV 1/5] END .....................n_neighbors=4;, score=0.999 total time=   0.1s\n",
      "[CV 2/5] END .....................n_neighbors=4;, score=0.999 total time=   0.2s\n",
      "[CV 3/5] END .....................n_neighbors=4;, score=0.999 total time=   0.1s\n",
      "[CV 4/5] END .....................n_neighbors=4;, score=0.999 total time=   0.1s\n",
      "[CV 5/5] END .....................n_neighbors=4;, score=0.999 total time=   0.1s\n",
      "[CV 1/5] END .....................n_neighbors=5;, score=0.999 total time=   0.1s\n",
      "[CV 2/5] END .....................n_neighbors=5;, score=0.999 total time=   0.2s\n",
      "[CV 3/5] END .....................n_neighbors=5;, score=0.999 total time=   0.1s\n",
      "[CV 4/5] END .....................n_neighbors=5;, score=0.999 total time=   0.2s\n",
      "[CV 5/5] END .....................n_neighbors=5;, score=0.999 total time=   0.1s\n",
      "[CV 1/5] END .....................n_neighbors=6;, score=0.999 total time=   0.2s\n",
      "[CV 2/5] END .....................n_neighbors=6;, score=0.999 total time=   0.2s\n",
      "[CV 3/5] END .....................n_neighbors=6;, score=0.999 total time=   0.2s\n",
      "[CV 4/5] END .....................n_neighbors=6;, score=0.999 total time=   0.1s\n",
      "[CV 5/5] END .....................n_neighbors=6;, score=0.999 total time=   0.2s\n",
      "[CV 1/5] END .....................n_neighbors=7;, score=0.999 total time=   0.2s\n",
      "[CV 2/5] END .....................n_neighbors=7;, score=0.999 total time=   0.2s\n",
      "[CV 3/5] END .....................n_neighbors=7;, score=0.999 total time=   0.2s\n",
      "[CV 4/5] END .....................n_neighbors=7;, score=0.999 total time=   0.2s\n",
      "[CV 5/5] END .....................n_neighbors=7;, score=0.999 total time=   0.2s\n",
      "[CV 1/5] END .....................n_neighbors=8;, score=0.999 total time=   0.2s\n",
      "[CV 2/5] END .....................n_neighbors=8;, score=0.999 total time=   0.2s\n",
      "[CV 3/5] END .....................n_neighbors=8;, score=0.999 total time=   0.2s\n",
      "[CV 4/5] END .....................n_neighbors=8;, score=0.999 total time=   0.2s\n",
      "[CV 5/5] END .....................n_neighbors=8;, score=0.999 total time=   0.2s\n",
      "[CV 1/5] END .....................n_neighbors=9;, score=0.999 total time=   0.2s\n",
      "[CV 2/5] END .....................n_neighbors=9;, score=0.999 total time=   0.2s\n",
      "[CV 3/5] END .....................n_neighbors=9;, score=0.999 total time=   0.2s\n",
      "[CV 4/5] END .....................n_neighbors=9;, score=0.999 total time=   0.3s\n",
      "[CV 5/5] END .....................n_neighbors=9;, score=0.999 total time=   0.3s\n",
      "[CV 1/5] END ....................n_neighbors=10;, score=0.999 total time=   0.3s\n",
      "[CV 2/5] END ....................n_neighbors=10;, score=0.999 total time=   0.2s\n"
     ]
    }
   ],
   "execution_count": null
  },
  {
   "metadata": {
    "jupyter": {
     "is_executing": true
    }
   },
   "cell_type": "code",
   "source": [
    "print (grid.best_params_)\n",
    "print ('\\n')\n",
    "print (grid.best_estimator_)"
   ],
   "id": "f53550186bcbe5fc",
   "outputs": [],
   "execution_count": null
  },
  {
   "metadata": {},
   "cell_type": "markdown",
   "source": [
    "## Step 3. Present Results\n",
    "Finalize the outcomes from the chosen learning models and determine the best performing model from the classification report. "
   ],
   "id": "282d8e7be0984b2d"
  },
  {
   "metadata": {
    "jupyter": {
     "is_executing": true
    }
   },
   "cell_type": "code",
   "source": [
    "dtm = DecisionTreeRegressor(random_state=2, splitter = 'best')\n",
    "knn = KNeighborsRegressor(n_neighbors=4)"
   ],
   "id": "da01caaa4afcc7f9",
   "outputs": [],
   "execution_count": null
  },
  {
   "metadata": {
    "jupyter": {
     "is_executing": true
    }
   },
   "cell_type": "code",
   "source": [
    "dtm.fit(X_train, y_train)\n",
    "dtm_pred = dtm.predict(X_test)\n",
    "dtm_mse = mean_squared_error(y_test, dtm_pred)\n",
    "dtm_mae = mean_absolute_error(y_test, dtm_pred)\n",
    "\n",
    "knn.fit(X_train, y_train)\n",
    "knn_pred = knn.predict(X_test)\n",
    "knn_mse = mean_squared_error(y_test, knn_pred)\n",
    "knn_mae = mean_absolute_error(y_test, knn_pred)\n",
    "\n",
    "print(\"Decision Tree Regressor - MSE:\", dtm_mse, \"MAE:\", dtm_mae)\n",
    "print(\"K-Nearest Neighbors Regressor - MSE:\", knn_mse, \"MAE:\", knn_mae)"
   ],
   "id": "22ab54d50c5840b1",
   "outputs": [],
   "execution_count": null
  },
  {
   "metadata": {},
   "cell_type": "markdown",
   "source": "Based on the above results, it is easy to see that the DTM model is better than KNN based on the two indexes MSE and MAE.",
   "id": "dafdf46595b573b5"
  },
  {
   "metadata": {},
   "cell_type": "markdown",
   "source": [
    "##  Step 4. Show outcomes visualising test cases against training cases for the best performing model. \n",
    "After step 3, we have found the best model is DTM with random_state=2, splitter = 'best'. Now let's retrain the dataset with 100% data."
   ],
   "id": "39dc227923e2fe6b"
  },
  {
   "metadata": {
    "jupyter": {
     "is_executing": true
    }
   },
   "cell_type": "code",
   "source": [
    "# Train the models\n",
    "best_model = DecisionTreeRegressor(random_state=2, splitter='best')\n",
    "best_model.fit(X_train, y_train)"
   ],
   "id": "1fda5a6d3bf782d8",
   "outputs": [],
   "execution_count": null
  },
  {
   "metadata": {
    "jupyter": {
     "is_executing": true
    }
   },
   "cell_type": "code",
   "source": [
    "y_train_pred = best_model.predict(X_train)\n",
    "y_test_pred = best_model.predict(X_test)\n",
    "\n",
    "# Calculate metrics\n",
    "train_mse = mean_squared_error(y_train, y_train_pred)\n",
    "test_mse = mean_squared_error(y_test, y_test_pred)\n",
    "train_r2 = r2_score(y_train, y_train_pred)\n",
    "test_r2 = r2_score(y_test, y_test_pred)"
   ],
   "id": "97b1d21a1e6b99d5",
   "outputs": [],
   "execution_count": null
  },
  {
   "metadata": {
    "jupyter": {
     "is_executing": true
    }
   },
   "cell_type": "code",
   "source": [
    "# Predict on training and test data\n",
    "y_train_pred = best_model.predict(X_train)\n",
    "y_test_pred = best_model.predict(X_test)"
   ],
   "id": "7ba1041e5d19b2c9",
   "outputs": [],
   "execution_count": null
  },
  {
   "metadata": {
    "jupyter": {
     "is_executing": true
    }
   },
   "cell_type": "code",
   "source": [
    "# Print metrics\n",
    "print(f'Train MSE: {train_mse:.2f}, Train R²: {train_r2:.2f}')\n",
    "print(f'Test MSE: {test_mse:.2f}, Test R²: {test_r2:.2f}')"
   ],
   "id": "366ff33d1ed9ff4",
   "outputs": [],
   "execution_count": null
  },
  {
   "metadata": {
    "jupyter": {
     "is_executing": true
    }
   },
   "cell_type": "code",
   "source": [
    "# Plotting Actual vs Predicted values for the test set\n",
    "plt.figure(figsize=(10, 6))\n",
    "plt.scatter(y_test, y_test_pred, alpha=0.7, color='blue')\n",
    "plt.plot([y_test.min(), y_test.max()], [y_test.min(), y_test.max()], 'k--', lw=2)\n",
    "plt.xlabel('Actual Temperature (C)')\n",
    "plt.ylabel('Predicted Temperature (C)')\n",
    "plt.title('Actual vs Predicted Temperature')\n",
    "plt.xlim(y_test.min(), y_test.max())\n",
    "plt.ylim(y_test.min(), y_test.max())\n",
    "plt.grid()\n",
    "plt.show()"
   ],
   "id": "cc55e05a554b1847",
   "outputs": [],
   "execution_count": null
  },
  {
   "metadata": {},
   "cell_type": "markdown",
   "source": [
    "## Step 5. Make predictions using your optimised model for sample unseen cases and present results.\n",
    "Now, let's prepare some unseen data"
   ],
   "id": "eb9f34a59c26d4cc"
  },
  {
   "metadata": {
    "jupyter": {
     "is_executing": true
    }
   },
   "cell_type": "code",
   "source": [
    "unseenData = [\n",
    "    [7.8, 0.93, 10.34, 1010],\n",
    "    [10.4, 0.7, 12.12, 1020],\n",
    "    [12.8, 0.6, 14.12, 1030]\n",
    "]\n",
    "unseenData_df = pd.DataFrame(unseenData, columns=features)\n",
    "\n",
    "unseenData_scaled = scaler.transform(unseenData_df)\n",
    "unseenData_scaled"
   ],
   "id": "3c64cd19e8bbd0b3",
   "outputs": [],
   "execution_count": null
  },
  {
   "metadata": {
    "jupyter": {
     "is_executing": true
    }
   },
   "cell_type": "code",
   "source": [
    "# Make predictions for the unseen data\n",
    "y_pred_unseen = best_model.predict(unseenData_scaled)\n",
    "\n",
    "# Display the prediction results\n",
    "for i, pred in enumerate(y_pred_unseen):\n",
    "    print(f'Prediction for sample {i + 1}: Temperature = {pred:.2f} °C')"
   ],
   "id": "7ec57c5a17f9fe9d",
   "outputs": [],
   "execution_count": null
  },
  {
   "metadata": {},
   "cell_type": "markdown",
   "source": "Based on the results predicted by the model as well as the data in the dataset, the results reflect the actual temperature quite accurately.",
   "id": "612c02b83d78498b"
  },
  {
   "metadata": {},
   "cell_type": "markdown",
   "source": "## Step 6. Create a standalone model on the entire training dataset.",
   "id": "f22729675647718c"
  },
  {
   "metadata": {
    "jupyter": {
     "is_executing": true
    }
   },
   "cell_type": "code",
   "source": [
    "# Define features and target again\n",
    "features = ['Apparent Temperature (C)', 'Humidity', 'Wind Speed (km/h)', 'Pressure (millibars)']\n",
    "target = 'Temperature (C)'"
   ],
   "id": "f6f96457e62bc82e",
   "outputs": [],
   "execution_count": null
  },
  {
   "metadata": {
    "jupyter": {
     "is_executing": true
    }
   },
   "cell_type": "code",
   "source": [
    "# Prepare the data\n",
    "X = weather_data[features]\n",
    "y = weather_data[target]"
   ],
   "id": "59a84b127c05f391",
   "outputs": [],
   "execution_count": null
  },
  {
   "metadata": {
    "jupyter": {
     "is_executing": true
    }
   },
   "cell_type": "code",
   "source": [
    "# Scale the features (optional but recommended)\n",
    "scaler = MinMaxScaler()\n",
    "X_scaled = scaler.fit_transform(X)"
   ],
   "id": "fe193aa1eef1b746",
   "outputs": [],
   "execution_count": null
  },
  {
   "metadata": {
    "jupyter": {
     "is_executing": true
    }
   },
   "cell_type": "code",
   "source": [
    "# Create and fit the model\n",
    "best_model = DecisionTreeRegressor(random_state=5, splitter='best')\n",
    "best_model.fit(X_train, y_train)"
   ],
   "id": "b26938d02f6bb736",
   "outputs": [],
   "execution_count": null
  },
  {
   "metadata": {
    "jupyter": {
     "is_executing": true
    }
   },
   "cell_type": "code",
   "source": [
    "# Make predictions on the training set (or validation set)\n",
    "y_pred = best_model.predict(X_train)\n",
    "# Calculate evaluation metrics\n",
    "mae = mean_absolute_error(y_train, y_pred)\n",
    "mse = mean_squared_error(y_train, y_pred)\n",
    "r2 = r2_score(y_train, y_pred)"
   ],
   "id": "a0455562e179729f",
   "outputs": [],
   "execution_count": null
  },
  {
   "metadata": {
    "jupyter": {
     "is_executing": true
    }
   },
   "cell_type": "code",
   "source": [
    "# Print the metrics\n",
    "print(f'Mean Absolute Error (MAE): {mae:.999f}')\n",
    "print(f'Mean Squared Error (MSE): {mse:.999f}')\n",
    "print(f'R-squared (R²): {r2:.999f}')"
   ],
   "id": "7478aa9d4fef9eec",
   "outputs": [],
   "execution_count": null
  },
  {
   "metadata": {},
   "cell_type": "markdown",
   "source": "The above results show that the trained model has very impressive performance.",
   "id": "f731dcff65269922"
  },
  {
   "metadata": {},
   "cell_type": "markdown",
   "source": [
    "## Step 7.  Save model for later use\n",
    "Explain how this saved model can be further developed with new data and how it can be used to classify/predict outcomes for unknown cases"
   ],
   "id": "25d0afbaeb57b541"
  },
  {
   "metadata": {
    "jupyter": {
     "is_executing": true
    }
   },
   "cell_type": "code",
   "source": [
    "# Save the trained model to a file\n",
    "joblib.dump(best_model, 'decision_tree_model.pkl')\n"
   ],
   "id": "9228c17839ef2f78",
   "outputs": [],
   "execution_count": null
  },
  {
   "metadata": {},
   "cell_type": "markdown",
   "source": "### Classifying/Predicting Outcomes for Unknown Cases",
   "id": "62b526d553044854"
  },
  {
   "metadata": {
    "jupyter": {
     "is_executing": true
    }
   },
   "cell_type": "code",
   "source": [
    "# Load the model from the file\n",
    "loaded_model = joblib.load('decision_tree_model.pkl')\n",
    "# Using the Model to Predict Outcomes\n",
    "new_data = [[7.8, 0.93, 10.34, 1010]] \n",
    "\n",
    "new_data_df = pd.DataFrame(new_data, columns=features)\n",
    "\n",
    "new_data_scaled = scaler.transform(new_data_df)\n",
    "predicted_outcome = loaded_model.predict(new_data_scaled)\n",
    "\n",
    "print(f'Predicted Outcome: {predicted_outcome[0]:.2f}')"
   ],
   "id": "3eadba176be01f01",
   "outputs": [],
   "execution_count": null
  },
  {
   "metadata": {},
   "cell_type": "markdown",
   "source": [
    "Once the model is trained (or updated with new data), it can be used to classify or predict outcomes for unknown cases:\n",
    "\n",
    "-   Input New Cases: Prepare new input data in the same format used for training.\n",
    "-   Make Predictions: Use the trained model to make predictions\n",
    "-   Interpret Results: Analyze the predictions to draw conclusions or inform decisions. \n",
    "- For example, you can predict temperature, humidity levels, or classify weather conditions based on the inputs."
   ],
   "id": "b0ff8354eee647c4"
  },
  {
   "metadata": {},
   "cell_type": "markdown",
   "source": "",
   "id": "7cf20f1db8125a43"
  },
  {
   "metadata": {
    "jupyter": {
     "is_executing": true
    }
   },
   "cell_type": "code",
   "source": "",
   "id": "9ebba3944e2dfd7e",
   "outputs": [],
   "execution_count": null
  },
  {
   "metadata": {},
   "cell_type": "markdown",
   "source": "",
   "id": "3bb3844a541c6ecd"
  },
  {
   "metadata": {
    "jupyter": {
     "is_executing": true
    }
   },
   "cell_type": "code",
   "source": "",
   "id": "8d21493d94bbdd7e",
   "outputs": [],
   "execution_count": null
  }
 ],
 "metadata": {
  "kernelspec": {
   "display_name": "Python 3",
   "language": "python",
   "name": "python3"
  },
  "language_info": {
   "codemirror_mode": {
    "name": "ipython",
    "version": 2
   },
   "file_extension": ".py",
   "mimetype": "text/x-python",
   "name": "python",
   "nbconvert_exporter": "python",
   "pygments_lexer": "ipython2",
   "version": "2.7.6"
  }
 },
 "nbformat": 4,
 "nbformat_minor": 5
}
